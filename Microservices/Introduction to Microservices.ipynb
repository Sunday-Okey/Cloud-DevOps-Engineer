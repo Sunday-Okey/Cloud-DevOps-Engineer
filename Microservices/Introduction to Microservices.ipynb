{
 "cells": [
  {
   "cell_type": "markdown",
   "id": "02b69af7-7767-48bd-8eb5-a4a3700b734f",
   "metadata": {},
   "source": [
    "## Overview"
   ]
  },
  {
   "cell_type": "markdown",
   "id": "009e4ef8-c097-439a-a65a-51004a5e94f2",
   "metadata": {},
   "source": [
    "Imagine you are a DevOps engineer at a successful company called \"Skyline Properties\", a real estate and building management company that's soaring to new heights in their industry.\n",
    "\n",
    "Skyline Properties is growing! They have a stellar reputation for managing various properties and providing top-notch services to their clients. However, their traditional monolithic application architecture has hindered their ability to scale and innovate as they continue to grow.\n",
    "\n",
    "Transitioning to a microservices architecture would enable Skyline Properties to rapidly develop and deploy new services. The shift to microservices would improve their ability to scale and innovate and enhance the resilience and maintainability of their application infrastructure."
   ]
  },
  {
   "cell_type": "markdown",
   "id": "653a8976-eb1e-4576-82eb-e2abd053ef10",
   "metadata": {},
   "source": [
    "We'll be using Skyline Properties as a real-world example to demonstrate the power of microservices, containerization, and Kubernetes."
   ]
  },
  {
   "cell_type": "markdown",
   "id": "bf8b8ce2-e4f1-407e-9f59-2d7ead1eb25b",
   "metadata": {},
   "source": [
    "https://www.youtube.com/watch?v=ZnpgEtAu22Y"
   ]
  },
  {
   "cell_type": "markdown",
   "id": "4d4d9ddd-e4c2-4602-829f-78730981a576",
   "metadata": {},
   "source": [
    "In this journey, you'll learn the skills necessary to address companies like Skyline Properties' challenges by:\n",
    "\n",
    "Mastering containerization\n",
    "Understanding microservices in a DevOps context\n",
    "Leveraging Kubernetes;\n",
    "and utilizing various AWS services like EKS, CodeBuild, and ECS\n",
    "By the end, you'll have the expertise to design, develop, and manage a modern microservices architecture for Skyline Properties, allowing them to deliver a seamless, high-quality experience to their clients. Following their journey, you'll learn the technical aspects, practical implications, and benefits of adopting modern software infrastructure."
   ]
  },
  {
   "cell_type": "markdown",
   "id": "fcf61eb6-870e-4aa7-b04d-87b92c523221",
   "metadata": {},
   "source": [
    "## Tools and Environment"
   ]
  },
  {
   "cell_type": "markdown",
   "id": "1b0b7c1a-3ab3-455c-a629-683765c0baf4",
   "metadata": {},
   "source": [
    "We'll be using a variety of tools and services that are essential for modern cloud-native development. Here's a brief overview of each tool and its role in the course:\n",
    "\n",
    "Docker: An open-source platform for containerization, Docker enables us to package microservices into lightweight, portable containers that can run consistently across different environments.\n",
    "Docker CLI: The Docker command-line interface (CLI) allows us to interact with Docker, build images, and manage containers.\n",
    "Python 3: A versatile and widely-used programming language, Python 3 will be used to create microservices and scripts throughout the course.\n",
    "Python PIP: The Python Package Installer (PIP) is a tool for installing and managing Python packages, which we'll use to manage dependencies for our microservices.\n",
    "AWS CLI: The AWS Command Line Interface (CLI) is a unified tool to manage AWS services, enabling us to interact with AWS resources directly from the command line.\n",
    "AWS CodeBuild: A fully managed continuous integration service, AWS CodeBuild will be used to build, test, and package our microservices' source code.\n",
    "AWS Elastic Kubernetes Service (EKS): A managed Kubernetes service, AWS EKS will help us deploy, manage, and scale containerized applications using Kubernetes.\n",
    "AWS Elastic Container Registry (ECR): A fully managed Docker container registry, AWS ECR allows us to store, manage, and deploy Docker container images.\n",
    "AWS CloudWatch: A monitoring and observability service, AWS CloudWatch will help us collect and analyze logs, metrics, and events from our Kubernetes clusters and microservices.\n",
    "kubectl: The Kubernetes command-line tool, kubectl, allows us to run commands and interact with Kubernetes clusters.\n",
    "Helm: A package manager for Kubernetes, Helm enables us to manage, deploy, and upgrade Kubernetes applications using charts that define application configurations.\n",
    "git CLI: The Git command-line interface allows us to interact with Git repositories, perform version control operations, and collaborate on code development.\n",
    "GitHub: A web-based platform for version control and collaboration, GitHub will be used to host our code repositories and facilitate collaboration on our microservices.\n",
    "We'll leverage these tools and services to design, develop, and operationalize microservices with Kubernetes on AWS, providing hands-on experience and real-world examples to help you master the concepts and techniques covered."
   ]
  },
  {
   "cell_type": "markdown",
   "id": "63ae7aaa-e6fa-43a9-837a-0405cd06d805",
   "metadata": {},
   "source": [
    "https://github.com/udacity/cd12355-microservices-kubernetes-cloud-devops"
   ]
  },
  {
   "cell_type": "code",
   "execution_count": null,
   "id": "dd0d365d-acd5-49df-ab75-e7f0c0289544",
   "metadata": {},
   "outputs": [],
   "source": []
  }
 ],
 "metadata": {
  "kernelspec": {
   "display_name": "Python 3 (ipykernel)",
   "language": "python",
   "name": "python3"
  },
  "language_info": {
   "codemirror_mode": {
    "name": "ipython",
    "version": 3
   },
   "file_extension": ".py",
   "mimetype": "text/x-python",
   "name": "python",
   "nbconvert_exporter": "python",
   "pygments_lexer": "ipython3",
   "version": "3.12.4"
  }
 },
 "nbformat": 4,
 "nbformat_minor": 5
}
